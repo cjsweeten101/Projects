{
 "cells": [
  {
   "cell_type": "markdown",
   "metadata": {
    "deletable": true,
    "editable": true
   },
   "source": [
    "## Intro\n",
    "\n",
    "yeah yeah I'll type this later pls\n"
   ]
  },
  {
   "cell_type": "code",
   "execution_count": 114,
   "metadata": {
    "collapsed": false,
    "deletable": true,
    "editable": true,
    "scrolled": true
   },
   "outputs": [
    {
     "name": "stdout",
     "output_type": "stream",
     "text": [
      "noCB({\n",
      "  \"responseHeader\":{\n",
      "    \"status\":0,\n",
      "    \"QTime\":14},\n",
      "  \"response\":{\"numFound\":2583,\"start\":0,\"docs\":[\n",
      "      {\n",
      "        \"averageratingscore_rf\":3.49,\n",
      "        \"pk_id\":261261,\n",
      "        \"total_number_of_ratings_i\":173,\n",
      "        \"schoolid_s\":\"1606\",\n",
      "        \"teacherfirstname_t\":\"David\",\n",
      "        \"teacherlastname_t\":\"Temme\"},\n",
      "      {\n",
      "        \"averageratingscore_rf\":4.2,\n",
      "        \"pk_id\":335313,\n",
      "        \"total_number_of_ratings_i\":169,\n",
      "        \"schoolid_s\":\"1606\",\n",
      "        \"teacherfirstname_t\":\"Alan\",\n",
      "        \"teacherlastname_t\":\"Sandomir\"},\n",
      "      {\n",
      "        \"averageratingscore_rf\":3.8,\n",
      "        \"pk_id\":566286,\n",
      "        \"total_number_of_ratings_i\":150,\n",
      "        \"schoolid_s\":\"1606\",\n",
      "        \"teacherfirstname_t\":\"Renee\",\n",
      "        \"teacherlastname_t\":\"Dawson\"},\n",
      "      {\n",
      "        \"averageratingscore_rf\":4.3,\n",
      "        \"pk_id\":261621,\n",
      "        \"total_number_of_ratings_i\":134,\n",
      "        \"schoolid_s\":\"1606\",\n",
      "        \"teacherfirstname_t\":\"Matthew\",\n",
      "        \"teacherlastname_t\":\"Linton\"},\n",
      "      {\n",
      "        \"averageratingscore_rf\":3.8,\n",
      "        \"pk_id\":261242,\n",
      "        \"total_number_of_ratings_i\":92,\n",
      "        \"schoolid_s\":\"1606\",\n",
      "        \"teacherfirstname_t\":\"J.V\",\n",
      "        \"teacherlastname_t\":\"Costa\"},\n",
      "      {\n",
      "        \"averageratingscore_rf\":4.33,\n",
      "        \"pk_id\":261467,\n",
      "        \"total_number_of_ratings_i\":91,\n",
      "        \"schoolid_s\":\"1606\",\n",
      "        \"teacherfirstname_t\":\"Gregory\",\n",
      "        \"teacherlastname_t\":\"Owens\"},\n",
      "      {\n",
      "        \"averageratingscore_rf\":3.4,\n",
      "        \"pk_id\":470792,\n",
      "        \"total_number_of_ratings_i\":86,\n",
      "        \"schoolid_s\":\"1606\",\n",
      "        \"teacherfirstname_t\":\"Richard\",\n",
      "        \"teacherlastname_t\":\"Dunie\"},\n",
      "      {\n",
      "        \"averageratingscore_rf\":4.5,\n",
      "        \"pk_id\":673272,\n",
      "        \"total_number_of_ratings_i\":85,\n",
      "        \"schoolid_s\":\"1606\",\n",
      "        \"teacherfirstname_t\":\"Mark\",\n",
      "        \"teacherlastname_t\":\"Nielsen\"},\n",
      "      {\n",
      "        \"averageratingscore_rf\":4.2,\n",
      "        \"pk_id\":221339,\n",
      "        \"total_number_of_ratings_i\":78,\n",
      "        \"schoolid_s\":\"1606\",\n",
      "        \"teacherfirstname_t\":\"Kelly\",\n",
      "        \"teacherlastname_t\":\"MacArthur\"},\n",
      "      {\n",
      "        \"averageratingscore_rf\":3.9,\n",
      "        \"pk_id\":651891,\n",
      "        \"total_number_of_ratings_i\":75,\n",
      "        \"schoolid_s\":\"1606\",\n",
      "        \"teacherfirstname_t\":\"Marci\",\n",
      "        \"teacherlastname_t\":\"Butterfield\"},\n",
      "      {\n",
      "        \"averageratingscore_rf\":2.8,\n",
      "        \"pk_id\":263423,\n",
      "        \"total_number_of_ratings_i\":71,\n",
      "        \"schoolid_s\":\"1606\",\n",
      "        \"teacherfirstname_t\":\"Tim\",\n",
      "        \"teacherlastname_t\":\"Chambless\"},\n",
      "      {\n",
      "        \"averageratingscore_rf\":4.7,\n",
      "        \"pk_id\":262511,\n",
      "        \"total_number_of_ratings_i\":64,\n",
      "        \"schoolid_s\":\"1606\",\n",
      "        \"teacherfirstname_t\":\"Theresa\",\n",
      "        \"teacherlastname_t\":\"Martinez\"},\n",
      "      {\n",
      "        \"averageratingscore_rf\":1.48,\n",
      "        \"pk_id\":1107537,\n",
      "        \"total_number_of_ratings_i\":63,\n",
      "        \"schoolid_s\":\"1606\",\n",
      "        \"teacherfirstname_t\":\"Ronald\",\n",
      "        \"teacherlastname_t\":\"Ragsdale\"},\n",
      "      {\n",
      "        \"averageratingscore_rf\":3.7,\n",
      "        \"pk_id\":836076,\n",
      "        \"total_number_of_ratings_i\":61,\n",
      "        \"schoolid_s\":\"1606\",\n",
      "        \"teacherfirstname_t\":\"Peter\",\n",
      "        \"teacherlastname_t\":\"Jensen\"},\n",
      "      {\n",
      "        \"averageratingscore_rf\":3.5,\n",
      "        \"pk_id\":651894,\n",
      "        \"total_number_of_ratings_i\":60,\n",
      "        \"schoolid_s\":\"1606\",\n",
      "        \"teacherfirstname_t\":\"Tariq\",\n",
      "        \"teacherlastname_t\":\"Mughal\"},\n",
      "      {\n",
      "        \"averageratingscore_rf\":4.3,\n",
      "        \"pk_id\":1564363,\n",
      "        \"total_number_of_ratings_i\":60,\n",
      "        \"schoolid_s\":\"1606\",\n",
      "        \"teacherfirstname_t\":\"Tanya\",\n",
      "        \"teacherlastname_t\":\"Vickers\"},\n",
      "      {\n",
      "        \"averageratingscore_rf\":3.4,\n",
      "        \"pk_id\":355495,\n",
      "        \"total_number_of_ratings_i\":58,\n",
      "        \"schoolid_s\":\"1606\",\n",
      "        \"teacherfirstname_t\":\"Brian\",\n",
      "        \"teacherlastname_t\":\"Kubarycz\"},\n",
      "      {\n",
      "        \"averageratingscore_rf\":2.25,\n",
      "        \"pk_id\":595209,\n",
      "        \"total_number_of_ratings_i\":55,\n",
      "        \"schoolid_s\":\"1606\",\n",
      "        \"teacherfirstname_t\":\"Neil\",\n",
      "        \"teacherlastname_t\":\"Cotter\"},\n",
      "      {\n",
      "        \"averageratingscore_rf\":4.1,\n",
      "        \"pk_id\":1372569,\n",
      "        \"total_number_of_ratings_i\":55,\n",
      "        \"schoolid_s\":\"1606\",\n",
      "        \"teacherfirstname_t\":\"Michael\",\n",
      "        \"teacherlastname_t\":\"Lewis\"},\n",
      "      {\n",
      "        \"averageratingscore_rf\":4.9,\n",
      "        \"pk_id\":667824,\n",
      "        \"total_number_of_ratings_i\":52,\n",
      "        \"schoolid_s\":\"1606\",\n",
      "        \"teacherfirstname_t\":\"Abe\",\n",
      "        \"teacherlastname_t\":\"Bakhsheshy\"}]\n",
      "  },\n",
      "  \"spellcheck\":{\n",
      "    \"suggestions\":[\n",
      "      \"of\",{\n",
      "        \"numFound\":5,\n",
      "        \"startOffset\":25,\n",
      "        \"endOffset\":27,\n",
      "        \"suggestion\":[\"off\",\n",
      "          \"orf\",\n",
      "          \"hof\",\n",
      "          \"lof\",\n",
      "          \"nof\"]}]}}\n",
      ");\n"
     ]
    }
   ],
   "source": [
    "import requests\n",
    "import json\n",
    "\n",
    "js_request = \"https://search-a.akamaihd.net/typeahead/suggest/?solrformat=true&rows=20&callback=noCB&q=*:*+AND+schoolid_s:1606&defType=edismax&qf=teacherfirstname_t^2000+teacherlastname_t^2000+teacherfullname_t^2000+autosuggest&bf=pow(total_number_of_ratings_i,2.1)&sort=total_number_of_ratings_i+desc&siteName=rmp&rows=20&start=0&fl=pk_id+teacherfirstname_t+teacherlastname_t+total_number_of_ratings_i+averageratingscore_rf+schoolid_s&fq=&prefix=schoolname_t:\\\"University+of+Utah\\\"\"       \n",
    "\n",
    "js_response = requests.get(js_request).text\n",
    "print(js_response)\n"
   ]
  },
  {
   "cell_type": "markdown",
   "metadata": {},
   "source": [
    "After some digging around on the site, I discovered that the list items containing the profesors are actually generated by javascript, and are not in the html source code.  \n",
    "\n",
    "The \"pk_id\" value is used to get the individual page of each professor.  So it will be usefull to grab that value and request the actual pages of the profesors to get more of the data I'm looking for.\n",
    "\n",
    "Also it seems that the site only loads 20 profesors at a time, making the user press a 'load more' button to get the next batch of 20."
   ]
  },
  {
   "cell_type": "code",
   "execution_count": 121,
   "metadata": {
    "collapsed": false
   },
   "outputs": [
    {
     "name": "stdout",
     "output_type": "stream",
     "text": [
      "2583\n"
     ]
    }
   ],
   "source": [
    "import re\n",
    "import json\n",
    "import time\n",
    "import math\n",
    "\n",
    "clean = re.sub('noCB\\(', '', js_response)\n",
    "clean = re.sub('\\);', '', clean)\n",
    "\n",
    "json_response = json.loads(clean)['response']\n",
    "\n",
    "total_prof = json_response['numFound']\n",
    "num_req_needed = math.ceil(total_prof/20)\n",
    "\n",
    "pk_ids = list()\n",
    "\n",
    "for i in range(0,num_req_needed):\n",
    "    next_start = str(i*20)\n",
    "    js_request = \"https://search-a.akamaihd.net/typeahead/suggest/?solrformat=true&rows=20&callback=noCB&q=*:*+AND+schoolid_s:1606&defType=edismax&qf=teacherfirstname_t^2000+teacherlastname_t^2000+teacherfullname_t^2000+autosuggest&bf=pow(total_number_of_ratings_i,2.1)&sort=total_number_of_ratings_i+desc&siteName=rmp&rows=20&start=\" + next_start + \"&fl=pk_id+teacherfirstname_t+teacherlastname_t+total_number_of_ratings_i+averageratingscore_rf+schoolid_s&fq=&prefix=schoolname_t:\\\"University+of+Utah\\\"\"    \n",
    "    js_response = requests.get(js_request).text\n",
    "    \n",
    "    clean = re.sub('noCB\\(', '', js_response)\n",
    "    clean = re.sub('\\);', '', clean)\n",
    "    \n",
    "    json_response = json.loads(clean)['response']['docs']\n",
    "    \n",
    "    for item in json_response:\n",
    "        pk_ids.append(item['pk_id'])\n",
    "\n",
    "    #I'm a nice guy    \n",
    "    time.sleep(1)\n",
    "\n",
    "print(len(pk_ids))"
   ]
  },
  {
   "cell_type": "code",
   "execution_count": 127,
   "metadata": {
    "collapsed": false
   },
   "outputs": [
    {
     "name": "stdout",
     "output_type": "stream",
     "text": [
      "[261261, 335313, 566286, 261621, 261242, 261467, 470792, 673272, 221339, 651891]\n"
     ]
    }
   ],
   "source": [
    "print(pk_ids[0:10])"
   ]
  },
  {
   "cell_type": "markdown",
   "metadata": {},
   "source": [
    "Got them all!  \n",
    "\n",
    "That process took about two minutes.  It may not be feasable to look at every profesor at a University.  In that case I'll just do some random sampling.  \n",
    "\n",
    "First things first, grab some data for one professor."
   ]
  },
  {
   "cell_type": "code",
   "execution_count": 295,
   "metadata": {
    "collapsed": false
   },
   "outputs": [
    {
     "name": "stdout",
     "output_type": "stream",
     "text": [
      "Department: Biology Overall Score: 3.5 Take Again Chance: 65% Difficulty: 3.8 Hot: 0 Most Common Tag: Tough Grader\n"
     ]
    }
   ],
   "source": [
    "from bs4 import BeautifulSoup\n",
    "import re\n",
    "\n",
    "url = \"https://www.ratemyprofessors.com/ShowRatings.jsp?tid=\" + str(pk_ids[0])\n",
    "\n",
    "response = requests.get(url).content\n",
    "soup = BeautifulSoup(response, 'html.parser')\n",
    "\n",
    "rating_breakdown = soup(class_=\"rating-breakdown\")\n",
    "\n",
    "overall_score = soup.find(class_=\"breakdown-container quality\").div.div.text.strip()\n",
    "take_again = soup.find(class_=re.compile(\"breakdown-section takeAgain\")).div.text.strip()\n",
    "difficulty = soup.find(class_=\"breakdown-section difficulty\").div.text.strip()\n",
    "hot_string = soup.find('figure').img['src']\n",
    "department = soup.find(class_='result-title').text.strip().split(' ')[3]\n",
    "\n",
    "if 'hot' in hot_string:\n",
    "    hot = 1\n",
    "else:\n",
    "    hot = 0\n",
    "\n",
    "most_common_tag = \"\"\n",
    "max_tag_count = 0\n",
    "tags = soup.find(class_=\"tag-box\")\n",
    "\n",
    "for child in tags.findChildren():\n",
    "    split_child = child.text.split(\" \")\n",
    "    tag_count_str = split_child[-1]\n",
    "    tag_count = re.sub('\\(','', tag_count_str)\n",
    "    tag_count = int(re.sub('\\)','', tag_count))\n",
    "    \n",
    "    if tag_count > max_tag_count:\n",
    "        max_tag_count = tag_count\n",
    "        most_common_tag = re.sub('[^A-Za-z ]+', '', child.text).strip()\n",
    "        \n",
    "\n",
    "\n",
    "print(\"Department: \" + department + \" Overall Score: \" + overall_score + \" Take Again Chance: \" + take_again + \" Difficulty: \" + difficulty + \" Hot: \" + str(hot) + \" Most Common Tag: \" + most_common_tag)"
   ]
  },
  {
   "cell_type": "markdown",
   "metadata": {},
   "source": [
    "There is also an ability for each commenter to specify what grade they got in the class.  Which would be a very intersting statistic, however, similar to getting the ids, its loaded from JavaScript requests.  20 a time again.  So it may not be doable for all of the profesors.  \n",
    "\n",
    "Either way I'll give it a shot"
   ]
  },
  {
   "cell_type": "code",
   "execution_count": null,
   "metadata": {
    "collapsed": true
   },
   "outputs": [],
   "source": []
  }
 ],
 "metadata": {
  "kernelspec": {
   "display_name": "Professors",
   "language": "python",
   "name": "professors"
  },
  "language_info": {
   "codemirror_mode": {
    "name": "ipython",
    "version": 3
   },
   "file_extension": ".py",
   "mimetype": "text/x-python",
   "name": "python",
   "nbconvert_exporter": "python",
   "pygments_lexer": "ipython3",
   "version": "3.4.5"
  }
 },
 "nbformat": 4,
 "nbformat_minor": 2
}
