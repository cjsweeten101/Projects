{
 "cells": [
  {
   "cell_type": "markdown",
   "metadata": {
    "deletable": true,
    "editable": true
   },
   "source": [
    "## Intro \n",
    "\n",
    "This is part one of a two part project in scraping and analyzing data from https://www.ratemyprofessors.com.\n",
    "\n",
    "This part will be commited to scraping, cleaning, and converting the data into a more managable format.\n",
    "\n",
    "Part two will be some analysis and visualization."
   ]
  },
  {
   "cell_type": "code",
   "execution_count": 83,
   "metadata": {
    "collapsed": false,
    "deletable": true,
    "editable": true,
    "scrolled": true
   },
   "outputs": [
    {
     "name": "stdout",
     "output_type": "stream",
     "text": [
      "noCB({\n",
      "  \"responseHeader\":{\n",
      "    \"status\":0,\n",
      "    \"QTime\":10},\n",
      "  \"response\":{\"numFound\":2584,\"start\":0,\"docs\":[\n",
      "      {\n",
      "        \"averageratingscore_rf\":3.5,\n",
      "        \"pk_id\":261261,\n",
      "        \"total_number_of_ratings_i\":174,\n",
      "        \"schoolid_s\":\"1606\",\n",
      "        \"teacherfirstname_t\":\"David\",\n",
      "        \"teacherlastname_t\":\"Temme\"},\n",
      "      {\n",
      "        \"averageratingscore_rf\":4.2,\n",
      "        \"pk_id\":335313,\n",
      "        \"total_number_of_ratings_i\":169,\n",
      "        \"schoolid_s\":\"1606\",\n",
      "        \"teacherfirstname_t\":\"Alan\",\n",
      "        \"teacherlastname_t\":\"Sandomir\"},\n",
      "      {\n",
      "        \"averageratingscore_rf\":3.8,\n",
      "        \"pk_id\":566286,\n",
      "        \"total_number_of_ratings_i\":150,\n",
      "        \"schoolid_s\":\"1606\",\n",
      "        \"teacherfirstname_t\":\"Renee\",\n",
      "        \"teacherlastname_t\":\"Dawson\"},\n",
      "      {\n",
      "        \"averageratingscore_rf\":4.3,\n",
      "        \"pk_id\":261621,\n",
      "        \"total_number_of_ratings_i\":134,\n",
      "        \"schoolid_s\":\"1606\",\n",
      "        \"teacherfirstname_t\":\"Matthew\",\n",
      "        \"teacherlastname_t\":\"Linton\"},\n",
      "      {\n",
      "        \"averageratingscore_rf\":3.8,\n",
      "        \"pk_id\":261242,\n",
      "        \"total_number_of_ratings_i\":92,\n",
      "        \"schoolid_s\":\"1606\",\n",
      "        \"teacherfirstname_t\":\"J.V\",\n",
      "        \"teacherlastname_t\":\"Costa\"},\n",
      "      {\n",
      "        \"averageratingscore_rf\":4.33,\n",
      "        \"pk_id\":261467,\n",
      "        \"total_number_of_ratings_i\":91,\n",
      "        \"schoolid_s\":\"1606\",\n",
      "        \"teacherfirstname_t\":\"Gregory\",\n",
      "        \"teacherlastname_t\":\"Owens\"},\n",
      "      {\n",
      "        \"averageratingscore_rf\":3.4,\n",
      "        \"pk_id\":470792,\n",
      "        \"total_number_of_ratings_i\":86,\n",
      "        \"schoolid_s\":\"1606\",\n",
      "        \"teacherfirstname_t\":\"Richard\",\n",
      "        \"teacherlastname_t\":\"Dunie\"},\n",
      "      {\n",
      "        \"averageratingscore_rf\":4.5,\n",
      "        \"pk_id\":673272,\n",
      "        \"total_number_of_ratings_i\":85,\n",
      "        \"schoolid_s\":\"1606\",\n",
      "        \"teacherfirstname_t\":\"Mark\",\n",
      "        \"teacherlastname_t\":\"Nielsen\"},\n",
      "      {\n",
      "        \"averageratingscore_rf\":4.2,\n",
      "        \"pk_id\":221339,\n",
      "        \"total_number_of_ratings_i\":78,\n",
      "        \"schoolid_s\":\"1606\",\n",
      "        \"teacherfirstname_t\":\"Kelly\",\n",
      "        \"teacherlastname_t\":\"MacArthur\"},\n",
      "      {\n",
      "        \"averageratingscore_rf\":3.9,\n",
      "        \"pk_id\":651891,\n",
      "        \"total_number_of_ratings_i\":75,\n",
      "        \"schoolid_s\":\"1606\",\n",
      "        \"teacherfirstname_t\":\"Marci\",\n",
      "        \"teacherlastname_t\":\"Butterfield\"},\n",
      "      {\n",
      "        \"averageratingscore_rf\":2.8,\n",
      "        \"pk_id\":263423,\n",
      "        \"total_number_of_ratings_i\":71,\n",
      "        \"schoolid_s\":\"1606\",\n",
      "        \"teacherfirstname_t\":\"Tim\",\n",
      "        \"teacherlastname_t\":\"Chambless\"},\n",
      "      {\n",
      "        \"averageratingscore_rf\":4.7,\n",
      "        \"pk_id\":262511,\n",
      "        \"total_number_of_ratings_i\":64,\n",
      "        \"schoolid_s\":\"1606\",\n",
      "        \"teacherfirstname_t\":\"Theresa\",\n",
      "        \"teacherlastname_t\":\"Martinez\"},\n",
      "      {\n",
      "        \"averageratingscore_rf\":1.48,\n",
      "        \"pk_id\":1107537,\n",
      "        \"total_number_of_ratings_i\":63,\n",
      "        \"schoolid_s\":\"1606\",\n",
      "        \"teacherfirstname_t\":\"Ronald\",\n",
      "        \"teacherlastname_t\":\"Ragsdale\"},\n",
      "      {\n",
      "        \"averageratingscore_rf\":3.7,\n",
      "        \"pk_id\":836076,\n",
      "        \"total_number_of_ratings_i\":61,\n",
      "        \"schoolid_s\":\"1606\",\n",
      "        \"teacherfirstname_t\":\"Peter\",\n",
      "        \"teacherlastname_t\":\"Jensen\"},\n",
      "      {\n",
      "        \"averageratingscore_rf\":3.5,\n",
      "        \"pk_id\":651894,\n",
      "        \"total_number_of_ratings_i\":60,\n",
      "        \"schoolid_s\":\"1606\",\n",
      "        \"teacherfirstname_t\":\"Tariq\",\n",
      "        \"teacherlastname_t\":\"Mughal\"},\n",
      "      {\n",
      "        \"averageratingscore_rf\":4.3,\n",
      "        \"pk_id\":1564363,\n",
      "        \"total_number_of_ratings_i\":60,\n",
      "        \"schoolid_s\":\"1606\",\n",
      "        \"teacherfirstname_t\":\"Tanya\",\n",
      "        \"teacherlastname_t\":\"Vickers\"},\n",
      "      {\n",
      "        \"averageratingscore_rf\":3.4,\n",
      "        \"pk_id\":355495,\n",
      "        \"total_number_of_ratings_i\":58,\n",
      "        \"schoolid_s\":\"1606\",\n",
      "        \"teacherfirstname_t\":\"Brian\",\n",
      "        \"teacherlastname_t\":\"Kubarycz\"},\n",
      "      {\n",
      "        \"averageratingscore_rf\":2.25,\n",
      "        \"pk_id\":595209,\n",
      "        \"total_number_of_ratings_i\":55,\n",
      "        \"schoolid_s\":\"1606\",\n",
      "        \"teacherfirstname_t\":\"Neil\",\n",
      "        \"teacherlastname_t\":\"Cotter\"},\n",
      "      {\n",
      "        \"averageratingscore_rf\":4.1,\n",
      "        \"pk_id\":1372569,\n",
      "        \"total_number_of_ratings_i\":55,\n",
      "        \"schoolid_s\":\"1606\",\n",
      "        \"teacherfirstname_t\":\"Michael\",\n",
      "        \"teacherlastname_t\":\"Lewis\"},\n",
      "      {\n",
      "        \"averageratingscore_rf\":4.9,\n",
      "        \"pk_id\":667824,\n",
      "        \"total_number_of_ratings_i\":52,\n",
      "        \"schoolid_s\":\"1606\",\n",
      "        \"teacherfirstname_t\":\"Abe\",\n",
      "        \"teacherlastname_t\":\"Bakhsheshy\"}]\n",
      "  },\n",
      "  \"spellcheck\":{\n",
      "    \"suggestions\":[\n",
      "      \"of\",{\n",
      "        \"numFound\":5,\n",
      "        \"startOffset\":25,\n",
      "        \"endOffset\":27,\n",
      "        \"suggestion\":[\"off\",\n",
      "          \"orf\",\n",
      "          \"hof\",\n",
      "          \"lof\",\n",
      "          \"nof\"]}]}}\n",
      ");\n"
     ]
    }
   ],
   "source": [
    "import requests\n",
    "import json\n",
    "\n",
    "js_request = \"https://search-a.akamaihd.net/typeahead/suggest/?solrformat=true&rows=20&callback=noCB&q=*:*+AND+schoolid_s:1606&defType=edismax&qf=teacherfirstname_t^2000+teacherlastname_t^2000+teacherfullname_t^2000+autosuggest&bf=pow(total_number_of_ratings_i,2.1)&sort=total_number_of_ratings_i+desc&siteName=rmp&rows=20&start=0&fl=pk_id+teacherfirstname_t+teacherlastname_t+total_number_of_ratings_i+averageratingscore_rf+schoolid_s&fq=&prefix=schoolname_t:\\\"University+of+Utah\\\"\"       \n",
    "\n",
    "js_response = requests.get(js_request).text\n",
    "print(js_response)\n"
   ]
  },
  {
   "cell_type": "markdown",
   "metadata": {
    "deletable": true,
    "editable": true
   },
   "source": [
    "After some digging around on the site, I discovered that the list items containing the profesors are actually generated by javascript, and are not in the html source code.  \n",
    "\n",
    "The \"pk_id\" value is used to get the individual page of each professor.  So it will be usefull to grab that value and request the actual pages of the profesors to get more of the data I'm looking for.\n",
    "\n",
    "Also it seems that the site only loads 20 profesors at a time, making the user press a 'load more' button to get the next batch of 20."
   ]
  },
  {
   "cell_type": "code",
   "execution_count": 2,
   "metadata": {
    "collapsed": false,
    "deletable": true,
    "editable": true
   },
   "outputs": [
    {
     "name": "stdout",
     "output_type": "stream",
     "text": [
      "2584\n"
     ]
    }
   ],
   "source": [
    "import re\n",
    "import json\n",
    "import time\n",
    "import math\n",
    "\n",
    "clean = re.sub('noCB\\(', '', js_response)\n",
    "clean = re.sub('\\);', '', clean)\n",
    "\n",
    "json_response = json.loads(clean)['response']\n",
    "\n",
    "total_prof = json_response['numFound']\n",
    "num_req_needed = math.ceil(total_prof/20)\n",
    "\n",
    "pk_ids = list()\n",
    "\n",
    "for i in range(0,num_req_needed):\n",
    "    next_start = str(i*20)\n",
    "    js_request = \"https://search-a.akamaihd.net/typeahead/suggest/?solrformat=true&rows=20&callback=noCB&q=*:*+AND+schoolid_s:1606&defType=edismax&qf=teacherfirstname_t^2000+teacherlastname_t^2000+teacherfullname_t^2000+autosuggest&bf=pow(total_number_of_ratings_i,2.1)&sort=total_number_of_ratings_i+desc&siteName=rmp&rows=20&start=\" + next_start + \"&fl=pk_id+teacherfirstname_t+teacherlastname_t+total_number_of_ratings_i+averageratingscore_rf+schoolid_s&fq=&prefix=schoolname_t:\\\"University+of+Utah\\\"\"    \n",
    "    js_response = requests.get(js_request).text\n",
    "    \n",
    "    clean = re.sub('noCB\\(', '', js_response)\n",
    "    clean = re.sub('\\);', '', clean)\n",
    "    \n",
    "    json_response = json.loads(clean)['response']['docs']\n",
    "    \n",
    "    for item in json_response:\n",
    "        pk_ids.append(item['pk_id'])\n",
    "        \n",
    "print(len(pk_ids))"
   ]
  },
  {
   "cell_type": "code",
   "execution_count": 3,
   "metadata": {
    "collapsed": false,
    "deletable": true,
    "editable": true
   },
   "outputs": [
    {
     "name": "stdout",
     "output_type": "stream",
     "text": [
      "[261261, 335313, 566286, 261621, 261242, 261467, 470792, 673272, 221339, 651891]\n"
     ]
    }
   ],
   "source": [
    "print(pk_ids[0:10])"
   ]
  },
  {
   "cell_type": "markdown",
   "metadata": {
    "deletable": true,
    "editable": true
   },
   "source": [
    "Got them all!  \n",
    "\n",
    "Now to scrape some data off of one professor."
   ]
  },
  {
   "cell_type": "code",
   "execution_count": 114,
   "metadata": {
    "collapsed": false,
    "deletable": true,
    "editable": true
   },
   "outputs": [],
   "source": [
    "from bs4 import BeautifulSoup\n",
    "import re\n",
    "\n",
    "def get_prof_data(pk_id):\n",
    "    url = \"https://www.ratemyprofessors.com/ShowRatings.jsp?tid=\" + str(pk_id)\n",
    "\n",
    "    response = requests.get(url).content\n",
    "    soup = BeautifulSoup(response, 'html.parser')\n",
    "\n",
    "    rating_breakdown = soup(class_=\"rating-breakdown\")\n",
    "    \n",
    "    overall_score = soup.find(class_=\"breakdown-container quality\").div.div.text.strip()\n",
    "    take_again = soup.find(class_=re.compile(\"breakdown-section takeAgain\")).div.text.strip()\n",
    "    difficulty = soup.find(class_=\"breakdown-section difficulty\").div.text.strip()\n",
    "    hot_string = soup.find('figure').img['src']\n",
    "    department = soup.find(class_='result-title').text.strip().split(' ')[3]\n",
    "    ratings = soup.find(class_=\"table-toggle rating-count active\").text.strip().split(' ')[0]\n",
    "    \n",
    "    if 'hot' in hot_string:\n",
    "        hot = 1\n",
    "    else:\n",
    "        hot = 0\n",
    "            \n",
    "    most_common_tag = \"\"\n",
    "    max_tag_count = 0\n",
    "    tags = soup.find(class_=\"tag-box\")\n",
    "\n",
    "    for child in tags.findChildren():\n",
    "        split_child = child.text.split(\" \")\n",
    "        tag_count_str = split_child[-1]\n",
    "        tag_count = re.sub('\\(','', tag_count_str)\n",
    "        tag_count = int(re.sub('\\)','', tag_count))\n",
    "    \n",
    "        if tag_count > max_tag_count:\n",
    "            max_tag_count = tag_count\n",
    "            most_common_tag = re.sub('[^A-Za-z ]+', '', child.text).strip()\n",
    "        \n",
    "\n",
    "    return department, overall_score, take_again, difficulty, hot, most_common_tag, ratings"
   ]
  },
  {
   "cell_type": "code",
   "execution_count": 115,
   "metadata": {
    "collapsed": false
   },
   "outputs": [
    {
     "name": "stdout",
     "output_type": "stream",
     "text": [
      "Department  Biology  Score  3.5  Take again  63%  Difficulty  3.8  Hot 0  Most Common Tag  Tough Grader\n",
      "Number of Ratings:  174\n"
     ]
    }
   ],
   "source": [
    "department, overall_score, take_again, difficulty, hot, most_common_tag, ratings = get_prof_data(261261)\n",
    "print(\"Department \", department, \" Score \", overall_score, \" Take again \", take_again, \" Difficulty \", difficulty, \" Hot\", hot, \" Most Common Tag \", most_common_tag)\n",
    "print(\"Number of Ratings: \", ratings)"
   ]
  },
  {
   "cell_type": "markdown",
   "metadata": {
    "deletable": true,
    "editable": true
   },
   "source": [
    "An addition to those basic scores, each commenter can specify what grade they got in the class.\n",
    "\n",
    "The way its loaded into the web page is a bit strange, the first 20 are in the html source code, the rest are populated by javascript.\n",
    "\n",
    "Also the values will take a bit of cleaning."
   ]
  },
  {
   "cell_type": "code",
   "execution_count": 116,
   "metadata": {
    "collapsed": false,
    "deletable": true,
    "editable": true
   },
   "outputs": [],
   "source": [
    "import numpy as np\n",
    "\n",
    "def avg_grade_float(pk_id):\n",
    "    avg_grade = 0.0\n",
    "    grades_list = list()\n",
    "    \n",
    "    first_req = \"https://www.ratemyprofessors.com/ShowRatings.jsp?tid=\" + str(pk_id)\n",
    "    first_res = requests.get(first_req).content\n",
    "    soup = BeautifulSoup(first_res, 'html.parser')\n",
    "    \n",
    "    responses = soup.find_all('span', class_=\"grade\")\n",
    "    for item in responses:\n",
    "        grades_list.append(item.span.text)\n",
    "        \n",
    "    first_js_req = \"https://www.ratemyprofessors.com/paginate/professors/ratings?tid=\"+str(pk_id)+\"&page=2\"\n",
    "    first_json = json.loads(requests.get(first_js_req).text)\n",
    "    \n",
    "    for obj in first_json['ratings']:\n",
    "        grades_list.append(obj['teacherGrade'])\n",
    "    \n",
    "    num_req_needed = math.ceil(first_json['remaining']/20)\n",
    "    for i in range(0,num_req_needed):\n",
    "        next_page = i + 3\n",
    "        next_req = \"https://www.ratemyprofessors.com/paginate/professors/ratings?tid=\"+str(pk_id)+\"&page=\" + str(next_page)\n",
    "        next_json = json.loads(requests.get(next_req).text)\n",
    "        \n",
    "        for obj in next_json['ratings']:\n",
    "            grades_list.append(obj['teacherGrade'])\n",
    "    \n",
    "    clean_grades_list = [i for i in grades_list if i != 'Not sure yet' and i != 'INC' and i != 'N/A' ]\n",
    "    \n",
    "    grade_dict = {\n",
    "        'A+' :4.0,\n",
    "        'A' : 4.0,\n",
    "        'A-' : 3.7,\n",
    "        'B+' : 3.3,\n",
    "        'B' : 3.0,\n",
    "        'B-' : 2.7,\n",
    "        'C+' : 2.3,\n",
    "        'C' : 2.0,\n",
    "        'C-' : 1.7,\n",
    "        'D+' : 1.3,\n",
    "        'D' : 1.0,\n",
    "        'D-' : .7,\n",
    "        'F' : 0,\n",
    "        'P' : 3.0\n",
    "    }\n",
    "    \n",
    "    number_grades = list(map(grade_dict.get, clean_grades_list))\n",
    "    return np.mean(number_grades)\n",
    "    "
   ]
  },
  {
   "cell_type": "code",
   "execution_count": 117,
   "metadata": {
    "collapsed": false,
    "deletable": true,
    "editable": true
   },
   "outputs": [
    {
     "name": "stdout",
     "output_type": "stream",
     "text": [
      "3.50571428571\n"
     ]
    }
   ],
   "source": [
    "print(avg_grade_float(261261))"
   ]
  },
  {
   "cell_type": "markdown",
   "metadata": {},
   "source": [
    "Perfect.  Now time to get data from all the professors at the university.  \n",
    "\n",
    "Converting to a pandas dataframe will make it much easier to plot, and compute statistics on the dataset"
   ]
  },
  {
   "cell_type": "code",
   "execution_count": 119,
   "metadata": {
    "collapsed": false
   },
   "outputs": [
    {
     "name": "stdout",
     "output_type": "stream",
     "text": [
      "500\n",
      "1000\n",
      "1500\n",
      "2000\n",
      "2500\n"
     ]
    }
   ],
   "source": [
    "import pandas as pd\n",
    "\n",
    "department, overall_score, take_again, difficulty, hot, most_common_tag\n",
    "\n",
    "df_list = list()\n",
    "\n",
    "for pk_id in pk_ids:\n",
    "    try:\n",
    "        department, overall_score, take_again, difficulty, hot, most_common_tag, ratings = get_prof_data(pk_id)\n",
    "    except Exception:\n",
    "        pass\n",
    "    #grade = avg_grade_float(pk_id)\n",
    "    d = {\n",
    "        'pk_id' : pk_id,\n",
    "        'Department' : department,\n",
    "        'Score' : overall_score,\n",
    "        'Take_Again' : take_again,\n",
    "        'Difficulty' : difficulty,\n",
    "        'Hot' : hot,\n",
    "        'Tag' : most_common_tag,\n",
    "        'Number_Ratings' : ratings\n",
    "        #'Grade' : grade\n",
    "    }\n",
    "    df_list.append(d)\n",
    "    if len(df_list)%500 == 0:\n",
    "        print(len(df_list))"
   ]
  },
  {
   "cell_type": "code",
   "execution_count": 122,
   "metadata": {
    "collapsed": false
   },
   "outputs": [
    {
     "data": {
      "text/html": [
       "<div>\n",
       "<table border=\"1\" class=\"dataframe\">\n",
       "  <thead>\n",
       "    <tr style=\"text-align: right;\">\n",
       "      <th></th>\n",
       "      <th>Department</th>\n",
       "      <th>Difficulty</th>\n",
       "      <th>Hot</th>\n",
       "      <th>Number_Ratings</th>\n",
       "      <th>Score</th>\n",
       "      <th>Tag</th>\n",
       "      <th>Take_Again</th>\n",
       "      <th>pk_id</th>\n",
       "    </tr>\n",
       "  </thead>\n",
       "  <tbody>\n",
       "    <tr>\n",
       "      <th>0</th>\n",
       "      <td>Biology</td>\n",
       "      <td>3.8</td>\n",
       "      <td>0</td>\n",
       "      <td>174</td>\n",
       "      <td>3.5</td>\n",
       "      <td>Tough Grader</td>\n",
       "      <td>63%</td>\n",
       "      <td>261261</td>\n",
       "    </tr>\n",
       "    <tr>\n",
       "      <th>1</th>\n",
       "      <td>Business</td>\n",
       "      <td>3.8</td>\n",
       "      <td>1</td>\n",
       "      <td>169</td>\n",
       "      <td>4.2</td>\n",
       "      <td>Get ready to read</td>\n",
       "      <td>77%</td>\n",
       "      <td>335313</td>\n",
       "    </tr>\n",
       "    <tr>\n",
       "      <th>2</th>\n",
       "      <td>Biology</td>\n",
       "      <td>3.8</td>\n",
       "      <td>0</td>\n",
       "      <td>150</td>\n",
       "      <td>3.8</td>\n",
       "      <td>Tough Grader</td>\n",
       "      <td>65%</td>\n",
       "      <td>566286</td>\n",
       "    </tr>\n",
       "    <tr>\n",
       "      <th>3</th>\n",
       "      <td>Biology</td>\n",
       "      <td>3.8</td>\n",
       "      <td>1</td>\n",
       "      <td>134</td>\n",
       "      <td>4.3</td>\n",
       "      <td>Skip class You wont pass</td>\n",
       "      <td>100%</td>\n",
       "      <td>261621</td>\n",
       "    </tr>\n",
       "    <tr>\n",
       "      <th>4</th>\n",
       "      <td>Music</td>\n",
       "      <td>2.4</td>\n",
       "      <td>0</td>\n",
       "      <td>92</td>\n",
       "      <td>3.8</td>\n",
       "      <td>Hilarious</td>\n",
       "      <td>N/A</td>\n",
       "      <td>261242</td>\n",
       "    </tr>\n",
       "    <tr>\n",
       "      <th>5</th>\n",
       "      <td>Chemistry</td>\n",
       "      <td>3.9</td>\n",
       "      <td>1</td>\n",
       "      <td>91</td>\n",
       "      <td>4.3</td>\n",
       "      <td>Caring</td>\n",
       "      <td>N/A</td>\n",
       "      <td>261467</td>\n",
       "    </tr>\n",
       "    <tr>\n",
       "      <th>6</th>\n",
       "      <td>Accounting</td>\n",
       "      <td>3.7</td>\n",
       "      <td>0</td>\n",
       "      <td>86</td>\n",
       "      <td>3.4</td>\n",
       "      <td>Skip class You wont pass</td>\n",
       "      <td>71%</td>\n",
       "      <td>470792</td>\n",
       "    </tr>\n",
       "    <tr>\n",
       "      <th>7</th>\n",
       "      <td>Biology</td>\n",
       "      <td>4.3</td>\n",
       "      <td>0</td>\n",
       "      <td>85</td>\n",
       "      <td>4.5</td>\n",
       "      <td>Skip class You wont pass</td>\n",
       "      <td>90%</td>\n",
       "      <td>673272</td>\n",
       "    </tr>\n",
       "    <tr>\n",
       "      <th>8</th>\n",
       "      <td>Mathematics</td>\n",
       "      <td>3.1</td>\n",
       "      <td>1</td>\n",
       "      <td>78</td>\n",
       "      <td>4.2</td>\n",
       "      <td>Skip class You wont pass</td>\n",
       "      <td>67%</td>\n",
       "      <td>221339</td>\n",
       "    </tr>\n",
       "    <tr>\n",
       "      <th>9</th>\n",
       "      <td>Accounting</td>\n",
       "      <td>3.7</td>\n",
       "      <td>0</td>\n",
       "      <td>75</td>\n",
       "      <td>3.9</td>\n",
       "      <td>Respected</td>\n",
       "      <td>89%</td>\n",
       "      <td>651891</td>\n",
       "    </tr>\n",
       "  </tbody>\n",
       "</table>\n",
       "</div>"
      ],
      "text/plain": [
       "    Department Difficulty  Hot Number_Ratings Score                       Tag  \\\n",
       "0      Biology        3.8    0            174   3.5              Tough Grader   \n",
       "1     Business        3.8    1            169   4.2         Get ready to read   \n",
       "2      Biology        3.8    0            150   3.8              Tough Grader   \n",
       "3      Biology        3.8    1            134   4.3  Skip class You wont pass   \n",
       "4        Music        2.4    0             92   3.8                 Hilarious   \n",
       "5    Chemistry        3.9    1             91   4.3                    Caring   \n",
       "6   Accounting        3.7    0             86   3.4  Skip class You wont pass   \n",
       "7      Biology        4.3    0             85   4.5  Skip class You wont pass   \n",
       "8  Mathematics        3.1    1             78   4.2  Skip class You wont pass   \n",
       "9   Accounting        3.7    0             75   3.9                 Respected   \n",
       "\n",
       "  Take_Again   pk_id  \n",
       "0        63%  261261  \n",
       "1        77%  335313  \n",
       "2        65%  566286  \n",
       "3       100%  261621  \n",
       "4        N/A  261242  \n",
       "5        N/A  261467  \n",
       "6        71%  470792  \n",
       "7        90%  673272  \n",
       "8        67%  221339  \n",
       "9        89%  651891  "
      ]
     },
     "execution_count": 122,
     "metadata": {},
     "output_type": "execute_result"
    }
   ],
   "source": [
    "u_of_u_data = pd.DataFrame(df_list)\n",
    "u_of_u_data.head(10)"
   ]
  },
  {
   "cell_type": "code",
   "execution_count": 126,
   "metadata": {
    "collapsed": true
   },
   "outputs": [],
   "source": [
    "u_of_u_data.to_csv(\"Utah_Professor_Data.csv\")"
   ]
  },
  {
   "cell_type": "markdown",
   "metadata": {},
   "source": [
    "I decided to not calculate the average grade for each professor after all.  \n",
    "\n",
    "Since it drastically increased the number of HTTP requests needed, and most students don't submit what grade they got anyway.\n",
    "\n",
    "In the jupyter notebook for part 2, I'll get into the actual analysis and visualization."
   ]
  }
 ],
 "metadata": {
  "kernelspec": {
   "display_name": "Professors",
   "language": "python",
   "name": "professors"
  },
  "language_info": {
   "codemirror_mode": {
    "name": "ipython",
    "version": 3
   },
   "file_extension": ".py",
   "mimetype": "text/x-python",
   "name": "python",
   "nbconvert_exporter": "python",
   "pygments_lexer": "ipython3",
   "version": "3.4.5"
  }
 },
 "nbformat": 4,
 "nbformat_minor": 2
}
